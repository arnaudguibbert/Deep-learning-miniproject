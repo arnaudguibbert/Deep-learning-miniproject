{
 "cells": [
  {
   "cell_type": "markdown",
   "metadata": {},
   "source": [
    "# Import "
   ]
  },
  {
   "cell_type": "code",
   "execution_count": null,
   "metadata": {},
   "outputs": [],
   "source": [
    "import torch\n",
    "import torch.nn as nn\n",
    "from metrics import Cross_validation\n",
    "from architecture import *\n",
    "from dlc_practical_prologue import generate_pair_sets as load_data\n",
    "import pandas as pd\n",
    "import seaborn as sns\n",
    "import matplotlib.pyplot as plt\n",
    "import matplotlib\n",
    "%matplotlib inline\n",
    "%load_ext autoreload\n",
    "%autoreload 2"
   ]
  },
  {
   "cell_type": "markdown",
   "metadata": {},
   "source": [
    "# Define the architectures and parameters"
   ]
  },
  {
   "cell_type": "code",
   "execution_count": null,
   "metadata": {},
   "outputs": [],
   "source": [
    "# List of the architectures you want to assess\n",
    "architectures = [oO_Net]\n",
    "\n",
    "# List of the arguments for each architecture\n",
    "args = [[],[]]\n",
    "# Initialize the cross validation\n",
    "mytest = Cross_validation(architectures,args,epochs=25,steps=5,runs=5) "
   ]
  },
  {
   "cell_type": "markdown",
   "metadata": {},
   "source": [
    "# Run the network"
   ]
  },
  {
   "cell_type": "code",
   "execution_count": null,
   "metadata": {},
   "outputs": [],
   "source": [
    "mytest.run_all()"
   ]
  },
  {
   "cell_type": "code",
   "execution_count": null,
   "metadata": {},
   "outputs": [],
   "source": [
    "error_img=mytest.get_errors()\n",
    "\n",
    "error_index=2\n",
    "plt.subplot(121)\n",
    "plt.imshow(error_img[error_index,1,:,:], cmap='gray')\n",
    "plt.subplot(122)\n",
    "plt.imshow(error_img[error_index,0,:,:], cmap='gray')"
   ]
  },
  {
   "cell_type": "markdown",
   "metadata": {},
   "source": [
    "# Visualize the number of parameters of each model"
   ]
  },
  {
   "cell_type": "code",
   "execution_count": null,
   "metadata": {},
   "outputs": [],
   "source": [
    "fig = plt.figure(figsize=[8,4])\n",
    "sns.set_style(\"darkgrid\")\n",
    "mytest.plot_count_param(fig,[1,1,1])"
   ]
  },
  {
   "cell_type": "markdown",
   "metadata": {},
   "source": [
    "# Visualize the spread of the accuracy"
   ]
  },
  {
   "cell_type": "code",
   "execution_count": null,
   "metadata": {},
   "outputs": [],
   "source": [
    "fig = plt.figure(figsize=[8,4])\n",
    "sns.set_style(\"darkgrid\")\n",
    "mytest.plot_std(fig,[1,1,1])"
   ]
  },
  {
   "cell_type": "markdown",
   "metadata": {},
   "source": [
    "# Compare the performances"
   ]
  },
  {
   "cell_type": "code",
   "execution_count": null,
   "metadata": {},
   "outputs": [],
   "source": [
    "fig = plt.figure(figsize=[8,4])\n",
    "sns.set_style(\"darkgrid\")\n",
    "mytest.plot_evolution_all(fig,[1,1,1],test=False)"
   ]
  },
  {
   "cell_type": "code",
   "execution_count": null,
   "metadata": {},
   "outputs": [],
   "source": [
    "fig = plt.figure(figsize=[8,4])\n",
    "sns.set_style(\"darkgrid\")\n",
    "mytest.plot_evolution_all(fig,[1,1,1])"
   ]
  },
  {
   "cell_type": "markdown",
   "metadata": {},
   "source": [
    "# Visualize the time performances"
   ]
  },
  {
   "cell_type": "code",
   "execution_count": null,
   "metadata": {},
   "outputs": [],
   "source": [
    "fig = plt.figure(figsize=[8,4])\n",
    "sns.set_style(\"darkgrid\")\n",
    "mytest.plot_time_comparison(fig,[1,1,1])"
   ]
  },
  {
   "cell_type": "markdown",
   "metadata": {},
   "source": [
    "# Let's plot all these graphs together"
   ]
  },
  {
   "cell_type": "code",
   "execution_count": null,
   "metadata": {},
   "outputs": [],
   "source": [
    "mytest.plot_full_comparison()"
   ]
  },
  {
   "cell_type": "markdown",
   "metadata": {},
   "source": [
    "## Remarks on oO_Net"
   ]
  },
  {
   "cell_type": "markdown",
   "metadata": {},
   "source": [
    "Dropout in the Naive_Net part reduces overfitting significantly and increases performance by 1%. <br>\n",
    "Dropout in MnistCNN decreases performance. <br>\n",
    "Replacing MnistCNN by a Mnist ResNet decreases performance. <br>\n",
    "SELU has no effect on performance and increases running time. <br>\n",
    "weights_loss is good at [0.5, 0.5]. <br>\n",
    "data_augmentation n'est pas pertinent. <br>\n",
    "erreur plausible pour bcp. <br>\n",
    "\n"
   ]
  },
  {
   "cell_type": "code",
   "execution_count": null,
   "metadata": {},
   "outputs": [],
   "source": []
  }
 ],
 "metadata": {
  "kernelspec": {
   "display_name": "Python 3",
   "language": "python",
   "name": "python3"
  },
  "language_info": {
   "codemirror_mode": {
    "name": "ipython",
    "version": 3
   },
   "file_extension": ".py",
   "mimetype": "text/x-python",
   "name": "python",
   "nbconvert_exporter": "python",
   "pygments_lexer": "ipython3",
   "version": "3.9.0"
  }
 },
 "nbformat": 4,
 "nbformat_minor": 4
}
