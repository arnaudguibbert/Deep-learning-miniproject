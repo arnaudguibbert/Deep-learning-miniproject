{
 "cells": [
  {
   "cell_type": "markdown",
   "metadata": {},
   "source": [
    "# Testing the created framework"
   ]
  },
  {
   "cell_type": "code",
   "execution_count": null,
   "metadata": {},
   "outputs": [],
   "source": [
    "from utils import *\n",
    "from pytorchNet import MLP, train_pytorch_model, generate_images, generate_contours, compute_nb_errors_torch\n",
    "import framework as frw\n",
    "import torch\n",
    "import seaborn as sns\n",
    "import glob\n",
    "import cv2\n",
    "import matplotlib.pyplot as plt\n",
    "%load_ext autoreload\n",
    "%autoreload 2"
   ]
  },
  {
   "cell_type": "markdown",
   "metadata": {},
   "source": [
    "## Load dataset"
   ]
  },
  {
   "cell_type": "code",
   "execution_count": null,
   "metadata": {},
   "outputs": [],
   "source": [
    "train_set, train_target = generate_disc_set(2500)\n",
    "test_set, test_target = generate_disc_set(2500)"
   ]
  },
  {
   "cell_type": "markdown",
   "metadata": {},
   "source": [
    "## Create a model & test forward"
   ]
  },
  {
   "cell_type": "code",
   "execution_count": null,
   "metadata": {},
   "outputs": [],
   "source": [
    "model = create_model()\n",
    "output = model.forward(train_set,no_grad=True)"
   ]
  },
  {
   "cell_type": "markdown",
   "metadata": {},
   "source": [
    "## Test the backward and no_grad"
   ]
  },
  {
   "cell_type": "markdown",
   "metadata": {},
   "source": [
    "### No_grad"
   ]
  },
  {
   "cell_type": "code",
   "execution_count": null,
   "metadata": {},
   "outputs": [],
   "source": [
    "criterion = frw.MSELoss()\n",
    "output = model.forward(train_set,no_grad=True)\n",
    "loss = criterion.forward(output,train_target)\n",
    "grdwrtoutput = criterion.backward()"
   ]
  },
  {
   "cell_type": "code",
   "execution_count": null,
   "metadata": {},
   "outputs": [],
   "source": [
    "model.backward(grdwrtoutput)"
   ]
  },
  {
   "cell_type": "markdown",
   "metadata": {},
   "source": [
    "### backward with grad"
   ]
  },
  {
   "cell_type": "code",
   "execution_count": null,
   "metadata": {},
   "outputs": [],
   "source": [
    "output = model.forward(train_set,no_grad=False)\n",
    "loss = criterion.forward(output,train_target)\n",
    "grdwrtoutput = criterion.backward()"
   ]
  },
  {
   "cell_type": "code",
   "execution_count": null,
   "metadata": {},
   "outputs": [],
   "source": [
    "model.backward(grdwrtoutput)"
   ]
  },
  {
   "cell_type": "markdown",
   "metadata": {},
   "source": [
    "### Check the shapes of the gradients "
   ]
  },
  {
   "cell_type": "code",
   "execution_count": null,
   "metadata": {},
   "outputs": [],
   "source": [
    "for module in model.sequence:\n",
    "    print(module)\n",
    "    if module.params[module][0] is not None:\n",
    "        print(module.params[module][0].shape)\n",
    "        print(module.params[module][1].shape)"
   ]
  },
  {
   "cell_type": "code",
   "execution_count": null,
   "metadata": {},
   "outputs": [],
   "source": [
    "print(model.params)"
   ]
  },
  {
   "cell_type": "markdown",
   "metadata": {},
   "source": [
    "# Try to train a model "
   ]
  },
  {
   "cell_type": "code",
   "execution_count": null,
   "metadata": {},
   "outputs": [],
   "source": [
    "model = create_model()\n",
    "params_frw = model.params\n",
    "model_torch = MLP()\n",
    "count = 0\n",
    "with torch.no_grad():\n",
    "    for par in model_torch.parameters():\n",
    "        if params_frw[model.sequence[count]][0] is None:\n",
    "            count += 1\n",
    "        key = model.sequence[count]\n",
    "        if len(par.shape) > 1:\n",
    "            par -= par - params_frw[key][0][:,:-1]\n",
    "        else:\n",
    "            par -= par - params_frw[key][0][:,-1]\n",
    "            count += 1"
   ]
  },
  {
   "cell_type": "code",
   "execution_count": null,
   "metadata": {},
   "outputs": [],
   "source": [
    "nb_runs = 10\n",
    "\n",
    "accuracy_test = accuracy_test_torch = 0\n",
    "for k in range(nb_runs):\n",
    "    model = create_model()\n",
    "    model_torch = MLP()\n",
    "    train_model(model,train_set,train_target,epochs=50)\n",
    "    train_pytorch_model(model_torch,train_set,train_target,epochs=150)\n",
    "    accuracy_test += compute_nb_errors(model,test_set,test_target)\n",
    "    accuracy_test_torch += compute_nb_errors_torch(model_torch,train_set,train_target)\n",
    "accuracy_test, accuracy_test_torch = accuracy_test/nb_runs, accuracy_test_torch/nb_runs"
   ]
  },
  {
   "cell_type": "code",
   "execution_count": null,
   "metadata": {},
   "outputs": [],
   "source": [
    "print(\"accuracy on test set with fwk = \",round(accuracy_test,1))\n",
    "print(\"accuracy on test set with pytorch = \",round(accuracy_test_torch,1))"
   ]
  },
  {
   "cell_type": "markdown",
   "metadata": {},
   "source": [
    "# Visualization"
   ]
  },
  {
   "cell_type": "code",
   "execution_count": null,
   "metadata": {},
   "outputs": [],
   "source": [
    "X = torch.linspace(0,1,1000)\n",
    "Y = torch.linspace(0,1,1000)\n",
    "grid_x, grid_y = torch.meshgrid(X,Y)\n",
    "grid_x_vector = grid_x.reshape(-1,1)\n",
    "grid_y_vector = grid_y.reshape(-1,1)\n",
    "inputs = torch.cat((grid_x_vector,grid_y_vector),dim=1)\n",
    "predicted = model.forward(inputs,no_grad=True)\n",
    "predicted = predicted.reshape(grid_x.shape[0],-1)\n",
    "with torch.no_grad():\n",
    "    predicted_torch = model_torch(inputs)\n",
    "    predicted_torch = predicted_torch.reshape(grid_x.shape[0],-1)"
   ]
  },
  {
   "cell_type": "code",
   "execution_count": null,
   "metadata": {},
   "outputs": [],
   "source": [
    "fig = plt.figure(figsize=[16,7])\n",
    "ax1 = fig.add_subplot(121)\n",
    "ax2 = fig.add_subplot(122)\n",
    "cs1 = ax1.contourf(grid_x,grid_y,predicted)\n",
    "cs2 = ax2.contourf(grid_x,grid_y,predicted_torch)\n",
    "ax1.set_title(\"Our framework\")\n",
    "ax2.set_title(\"Pytorch\")\n",
    "plt.show()"
   ]
  },
  {
   "cell_type": "code",
   "execution_count": null,
   "metadata": {},
   "outputs": [],
   "source": [
    "data = assess_model(create_model,1,1,2)"
   ]
  },
  {
   "cell_type": "code",
   "execution_count": null,
   "metadata": {},
   "outputs": [],
   "source": [
    "columns = [\"Run\",\"Accuracy train\",\"Accuracy test\",\"Epochs\"]\n",
    "data_pd = pd.DataFrame(data,columns=columns)\n",
    "fig = plt.figure(figsize=[10,6])\n",
    "ax = fig.add_subplot(1,1,1)\n",
    "sns.set_style(\"darkgrid\")\n",
    "sns.lineplot(data=data_pd,x=\"Epochs\",y=\"Accuracy train\",ax=ax)\n",
    "sns.lineplot(data=data_pd,x=\"Epochs\",y=\"Accuracy test\",ax=ax)\n",
    "plt.show()"
   ]
  },
  {
   "cell_type": "markdown",
   "metadata": {},
   "source": [
    "# GIF"
   ]
  },
  {
   "cell_type": "code",
   "execution_count": null,
   "metadata": {},
   "outputs": [],
   "source": [
    "model = create_model()\n",
    "model_torch = MLP()\n",
    "steps=3\n",
    "epochs=90\n",
    "params_frw = model.params\n",
    "count = 0\n",
    "with torch.no_grad():\n",
    "    for par in model_torch.parameters():\n",
    "        if params_frw[model.sequence[count]][0] is None:\n",
    "            count += 1\n",
    "        key = model.sequence[count]\n",
    "        if len(par.shape) > 1:\n",
    "            par -= par - params_frw[key][0][:,:-1]\n",
    "        else:\n",
    "            par -= par - params_frw[key][0][:,-1]\n",
    "            count += 1\n",
    "generate_images(train_set,train_target,model,model_torch,steps,epochs,folder=\"figures\")"
   ]
  },
  {
   "cell_type": "code",
   "execution_count": null,
   "metadata": {},
   "outputs": [],
   "source": [
    "path_img = [\"figures/epochs\" + str(nb_epochs) + \".jpg\" for nb_epochs in range(steps,epochs+1,steps)]\n",
    "img_arr = []\n",
    "for filename in path_img:\n",
    "    img = cv2.imread(filename)\n",
    "    height, width, layers = img.shape\n",
    "    size = (width,height)\n",
    "    img_arr.append(img)\n",
    " \n",
    "\n",
    "out = cv2.VideoWriter('mygif.avi',cv2.VideoWriter_fourcc(*'DIVX'), 3, size)\n",
    " \n",
    "for i in range(len(img_arr)):\n",
    "    out.write(img_arr[i])\n",
    "out.release()"
   ]
  }
 ],
 "metadata": {
  "kernelspec": {
   "display_name": "Python 3",
   "language": "python",
   "name": "python3"
  },
  "language_info": {
   "codemirror_mode": {
    "name": "ipython",
    "version": 3
   },
   "file_extension": ".py",
   "mimetype": "text/x-python",
   "name": "python",
   "nbconvert_exporter": "python",
   "pygments_lexer": "ipython3",
   "version": "3.6.12"
  }
 },
 "nbformat": 4,
 "nbformat_minor": 4
}
