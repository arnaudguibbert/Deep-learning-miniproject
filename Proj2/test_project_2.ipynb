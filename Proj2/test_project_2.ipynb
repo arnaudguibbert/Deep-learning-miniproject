{
 "cells": [
  {
   "cell_type": "markdown",
   "metadata": {},
   "source": [
    "# Testing the created framework"
   ]
  },
  {
   "cell_type": "code",
   "execution_count": null,
   "metadata": {},
   "outputs": [],
   "source": [
    "from utils import *\n",
    "from pytorchNet import MLP, train_pytorch_model\n",
    "from MSELoss import MSELoss\n",
    "import torch\n",
    "import seaborn as sns\n",
    "import glob\n",
    "import cv2\n",
    "%load_ext autoreload\n",
    "%autoreload 2"
   ]
  },
  {
   "cell_type": "markdown",
   "metadata": {},
   "source": [
    "## Load dataset"
   ]
  },
  {
   "cell_type": "code",
   "execution_count": null,
   "metadata": {},
   "outputs": [],
   "source": [
    "train_set, train_target = generate_disc_set(2500)\n",
    "test_set, test_target = generate_disc_set(2500)"
   ]
  },
  {
   "cell_type": "markdown",
   "metadata": {},
   "source": [
    "## Create a model & test forward"
   ]
  },
  {
   "cell_type": "code",
   "execution_count": null,
   "metadata": {},
   "outputs": [],
   "source": [
    "model = create_model()\n",
    "output = model.forward(train_set,no_grad=True)"
   ]
  },
  {
   "cell_type": "markdown",
   "metadata": {},
   "source": [
    "## Test the backward and no_grad"
   ]
  },
  {
   "cell_type": "markdown",
   "metadata": {},
   "source": [
    "### No_grad"
   ]
  },
  {
   "cell_type": "code",
   "execution_count": null,
   "metadata": {},
   "outputs": [],
   "source": [
    "criterion = MSELoss()\n",
    "output = model.forward(train_set,no_grad=True)\n",
    "loss = criterion.forward(output,train_target)\n",
    "grdwrtoutput = criterion.backward()"
   ]
  },
  {
   "cell_type": "code",
   "execution_count": null,
   "metadata": {},
   "outputs": [],
   "source": [
    "model.backward(grdwrtoutput)"
   ]
  },
  {
   "cell_type": "markdown",
   "metadata": {},
   "source": [
    "### backward with grad"
   ]
  },
  {
   "cell_type": "code",
   "execution_count": null,
   "metadata": {},
   "outputs": [],
   "source": [
    "output = model.forward(train_set,no_grad=False)\n",
    "loss = criterion.forward(output,train_target)\n",
    "grdwrtoutput = criterion.backward()"
   ]
  },
  {
   "cell_type": "code",
   "execution_count": null,
   "metadata": {},
   "outputs": [],
   "source": [
    "model.backward(grdwrtoutput)"
   ]
  },
  {
   "cell_type": "markdown",
   "metadata": {},
   "source": [
    "### Check the shapes of the gradients "
   ]
  },
  {
   "cell_type": "code",
   "execution_count": null,
   "metadata": {},
   "outputs": [],
   "source": [
    "for module in model.sequence:\n",
    "    if len(module.params) != 0:\n",
    "        print(module.params[1].shape)"
   ]
  },
  {
   "cell_type": "markdown",
   "metadata": {},
   "source": [
    "# Try to train a model "
   ]
  },
  {
   "cell_type": "code",
   "execution_count": null,
   "metadata": {},
   "outputs": [],
   "source": [
    "torch.manual_seed(100)\n",
    "model = create_model()\n",
    "train_model(model,train_set,train_target,epochs=200)"
   ]
  },
  {
   "cell_type": "code",
   "execution_count": null,
   "metadata": {},
   "outputs": [],
   "source": [
    "accuracy_test = compute_nb_errors(model,test_set,test_target)\n",
    "accuracy_train = compute_nb_errors(model,train_set,train_target)"
   ]
  },
  {
   "cell_type": "code",
   "execution_count": null,
   "metadata": {},
   "outputs": [],
   "source": [
    "print(\"accuracy on train set = \",round(accuracy_train,1))\n",
    "print(\"accuracy on test set = \",round(accuracy_test,1))"
   ]
  },
  {
   "cell_type": "markdown",
   "metadata": {},
   "source": [
    "## Comparison with Pytorch"
   ]
  },
  {
   "cell_type": "code",
   "execution_count": null,
   "metadata": {},
   "outputs": [],
   "source": [
    "torch.manual_seed(100)\n",
    "model_torch = MLP()\n",
    "train_pytorch_model(model_torch,train_set,train_target,epochs=200)"
   ]
  },
  {
   "cell_type": "code",
   "execution_count": null,
   "metadata": {},
   "outputs": [],
   "source": [
    "accuracy_test = compute_nb_errors(model_torch,test_set,test_target,pytorch=True)\n",
    "accuracy_train = compute_nb_errors(model_torch,train_set,train_target,pytorch=True)"
   ]
  },
  {
   "cell_type": "code",
   "execution_count": null,
   "metadata": {},
   "outputs": [],
   "source": [
    "print(\"accuracy on train set = \",round(accuracy_train,1))\n",
    "print(\"accuracy on test set = \",round(accuracy_test,1))"
   ]
  },
  {
   "cell_type": "markdown",
   "metadata": {},
   "source": [
    "# Visualization"
   ]
  },
  {
   "cell_type": "code",
   "execution_count": null,
   "metadata": {},
   "outputs": [],
   "source": [
    "X = torch.linspace(0,1,1000)\n",
    "Y = torch.linspace(0,1,1000)\n",
    "grid_x, grid_y = torch.meshgrid(X,Y)\n",
    "grid_x_vector = grid_x.reshape(-1,1)\n",
    "grid_y_vector = grid_y.reshape(-1,1)\n",
    "inputs = torch.cat((grid_x_vector,grid_y_vector),dim=1)\n",
    "predicted = model.forward(inputs,no_grad=True)\n",
    "predicted = predicted.reshape(grid_x.shape[0],-1)\n",
    "with torch.no_grad():\n",
    "    predicted_torch = model_torch(inputs)\n",
    "    predicted_torch = predicted_torch.reshape(grid_x.shape[0],-1)"
   ]
  },
  {
   "cell_type": "code",
   "execution_count": null,
   "metadata": {},
   "outputs": [],
   "source": [
    "fig = plt.figure(figsize=[16,7])\n",
    "ax1 = fig.add_subplot(121)\n",
    "ax2 = fig.add_subplot(122)\n",
    "cs1 = ax1.contourf(grid_x,grid_y,predicted)\n",
    "cs2 = ax2.contourf(grid_x,grid_y,predicted_torch)\n",
    "ax1.set_title(\"Our framework\")\n",
    "ax2.set_title(\"Pytorch\")\n",
    "plt.show()"
   ]
  },
  {
   "cell_type": "markdown",
   "metadata": {},
   "source": [
    "# GIF"
   ]
  },
  {
   "cell_type": "code",
   "execution_count": null,
   "metadata": {},
   "outputs": [],
   "source": [
    "model = create_model()\n",
    "model_torch = MLP()\n",
    "steps=3\n",
    "epochs=90\n",
    "generate_images(train_set,train_target,model,model_torch,steps,epochs,folder=\"figures\")"
   ]
  },
  {
   "cell_type": "code",
   "execution_count": null,
   "metadata": {},
   "outputs": [],
   "source": [
    "path_img = [\"figures/epochs\" + str(nb_epochs) + \".jpg\" for nb_epochs in range(steps,epochs+1,steps)]\n",
    "img_arr = []\n",
    "for filename in path_img:\n",
    "    img = cv2.imread(filename)\n",
    "    height, width, layers = img.shape\n",
    "    size = (width,height)\n",
    "    img_arr.append(img)\n",
    " \n",
    "\n",
    "out = cv2.VideoWriter('mygif.avi',cv2.VideoWriter_fourcc(*'DIVX'), 3, size)\n",
    " \n",
    "for i in range(len(img_arr)):\n",
    "    out.write(img_arr[i])\n",
    "out.release()"
   ]
  }
 ],
 "metadata": {
  "kernelspec": {
   "display_name": "Python 3",
   "language": "python",
   "name": "python3"
  },
  "language_info": {
   "codemirror_mode": {
    "name": "ipython",
    "version": 3
   },
   "file_extension": ".py",
   "mimetype": "text/x-python",
   "name": "python",
   "nbconvert_exporter": "python",
   "pygments_lexer": "ipython3",
   "version": "3.6.12"
  }
 },
 "nbformat": 4,
 "nbformat_minor": 4
}
